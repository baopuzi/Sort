{
 "cells": [
  {
   "cell_type": "code",
   "execution_count": 1,
   "metadata": {},
   "outputs": [
    {
     "name": "stdout",
     "output_type": "stream",
     "text": [
      "排序前结果为：1 3 9 10 2 1 3 5 4 2 \n",
      "排序后结果为：1 1 2 2 3 3 4 5 9 10 "
     ]
    }
   ],
   "source": [
    "# 冒泡排序\n",
    "def bubble_sort(arr):\n",
    "    for i in range(0,len(arr)-1):\n",
    "        for j in range(0,len(arr)-i-1):\n",
    "            if arr[j]>arr[j+1]:\n",
    "                arr[j],arr[j+1]=arr[j+1],arr[j]\n",
    "    return arr\n",
    "    \n",
    "# 选择排序\n",
    "def selection_sort(arr):\n",
    "    for i in range(0,len(arr)-1):\n",
    "        min_index=i\n",
    "        for j in range(i+1,len(arr)):\n",
    "            if arr[min_index]>arr[j]:\n",
    "                min_index=j\n",
    "        if min_index!=i:\n",
    "            arr[i],arr[min_index]=arr[min_index],arr[i]\n",
    "    return arr\n",
    "\n",
    "# 快速排序\n",
    "def quick_sort(arr):\n",
    "    if arr==[]:\n",
    "        return []\n",
    "    else:\n",
    "        first=[arr[0]]\n",
    "        left=quick_sort([x for x in arr[1:] if x<=arr[0]])\n",
    "        right=quick_sort([y for y in arr[1:] if y>arr[0]])\n",
    "    return left+first+right\n",
    "    \n",
    "# 插入排序\n",
    "def insert_sort(arr):\n",
    "    for i in range(1,len(arr)):\n",
    "        for j in range(i,0,-1):\n",
    "            if arr[j]<arr[j-1]:\n",
    "                arr[j],arr[j-1]=arr[j-1],arr[j]\n",
    "    return arr \n",
    "    \n",
    "if __name__==\"__main__\":\n",
    "    list=[1,3,9,10,2,1,3,5,4,2]\n",
    "    print('排序前结果为：',end='')\n",
    "    for i in list:\n",
    "        print(i,end=' ')\n",
    "    print('\\n排序后结果为：',end='')\n",
    "    \n",
    "    #测试各种排序方法\n",
    "    for i in (bubble_sort(list)):\n",
    "        print(i,end=' ')"
   ]
  }
 ],
 "metadata": {
  "kernelspec": {
   "display_name": "Python 3",
   "language": "python",
   "name": "python3"
  },
  "language_info": {
   "codemirror_mode": {
    "name": "ipython",
    "version": 3
   },
   "file_extension": ".py",
   "mimetype": "text/x-python",
   "name": "python",
   "nbconvert_exporter": "python",
   "pygments_lexer": "ipython3",
   "version": "3.6.3"
  }
 },
 "nbformat": 4,
 "nbformat_minor": 2
}
